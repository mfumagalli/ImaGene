{
 "cells": [
  {
   "cell_type": "markdown",
   "metadata": {},
   "source": [
    "# Estimation of continuous variables with regression using _ImaGene_\n",
    "\n",
    "In this example, the aim is to estimate a continuous parameter using regression.\n",
    "Please refer to the tutorial for binary and multiclass classification for an in-depth explanation of each step and case study, and to the tutorial for multiclass classification on continuous variables for data generation and processing."
   ]
  },
  {
   "cell_type": "code",
   "execution_count": null,
   "metadata": {},
   "outputs": [],
   "source": [
    "import os\n",
    "import gzip\n",
    "import _pickle as pickle\n",
    "\n",
    "import numpy as np\n",
    "import scipy.stats\n",
    "import arviz\n",
    "\n",
    "import tensorflow as tf\n",
    "from tensorflow import keras\n",
    "from keras import models, layers, activations, optimizers, regularizers\n",
    "from keras.utils.vis_utils import plot_model\n",
    "from keras.models import load_model\n",
    "\n",
    "import skimage.transform\n",
    "import itertools\n",
    "import matplotlib.pyplot as plt\n",
    "from sklearn.metrics import confusion_matrix\n",
    "import pydot"
   ]
  },
  {
   "cell_type": "code",
   "execution_count": null,
   "metadata": {},
   "outputs": [],
   "source": [
    "%run -i ../ImaGene.py"
   ]
  },
  {
   "cell_type": "markdown",
   "metadata": {},
   "source": [
    "### 1. Read data from VCF file and store it into _ImaGene_ objects\n",
    "\n",
    "As an illustration, we double sort the image by ordering rows and columns by frequency. We also filter out singletons and do not resize. "
   ]
  },
  {
   "cell_type": "code",
   "execution_count": null,
   "metadata": {},
   "outputs": [],
   "source": [
    "file_LCT = ImaFile(nr_samples=198, VCF_file_name='LCT.CEU.vcf');\n",
    "gene_LCT = file_LCT.read_VCF();\n",
    "gene_LCT.filter_freq(0.01);\n",
    "gene_LCT.sort('rows_freq');\n",
    "gene_LCT.sort('cols_freq');\n",
    "gene_LCT.convert(flip=True);\n",
    "gene_LCT.plot();\n",
    "gene_LCT.summary();"
   ]
  },
  {
   "cell_type": "markdown",
   "metadata": {},
   "source": [
    "### 2. Run and process simulations to be used for training the neural network"
   ]
  },
  {
   "cell_type": "code",
   "execution_count": null,
   "metadata": {},
   "outputs": [],
   "source": [
    "# change to your path, e.g.:\n",
    "# path_sim = '/home/mfumagal/Data/ImaGene/Tutorials/'\n",
    "# path_sim='/mnt/quobyte/ImaGene/' # for workshop spp1819\n",
    "path_sim = './'"
   ]
  },
  {
   "cell_type": "markdown",
   "metadata": {},
   "source": [
    "See tutorial `03_multiclass_for_continuous`. Here I assume simulations are in `path+Continuous`."
   ]
  },
  {
   "cell_type": "markdown",
   "metadata": {},
   "source": [
    "### 3. Implement, train and evaluate the neural network\n",
    "\n",
    "The pipeline for training and testing is the following one.\n",
    "We resize all images to match the real data."
   ]
  },
  {
   "cell_type": "code",
   "execution_count": null,
   "metadata": {},
   "outputs": [],
   "source": [
    "i = 1\n",
    "while i <= 10:\n",
    "\n",
    "    # simulations \n",
    "    file_sim = ImaFile(simulations_folder=path_sim+'Continuous/Simulations' + str(i), nr_samples=198, model_name='Marth-3epoch-CEU')\n",
    "\n",
    "    # retain only 20 data points per class as a quick example\n",
    "    gene_sim = file_sim.read_simulations(parameter_name='selection_coeff_hetero', max_nrepl=3)\n",
    "    \n",
    "    # manipulate data\n",
    "    gene_sim.filter_freq(0.01)\n",
    "    gene_sim.sort('rows_freq')\n",
    "    gene_sim.sort('cols_freq')\n",
    "    gene_sim.resize((198, int(gene_LCT.dimensions[1][0])))\n",
    "    gene_sim.convert(flip=True)\n",
    "    \n",
    "    # randomise data\n",
    "    gene_sim.subset(get_index_random(gene_sim))\n",
    " \n",
    "    # at first iteration we build the model \n",
    "    # noe that the last layer has a linear activation function\n",
    "    if i == 1:\n",
    "\n",
    "        model = models.Sequential([\n",
    "                    layers.Conv2D(filters=32, kernel_size=(3,3), strides=(1,1), activation='relu', kernel_regularizer=regularizers.l1_l2(l1=0.005, l2=0.005), padding='valid', input_shape=gene_sim.data.shape[1:]),\n",
    "                    layers.MaxPooling2D(pool_size=(2,2)),\n",
    "                    layers.Conv2D(filters=64, kernel_size=(3,3), strides=(1,1), activation='relu', kernel_regularizer=regularizers.l1_l2(l1=0.005, l2=0.005), padding='valid'),\n",
    "                    layers.MaxPooling2D(pool_size=(2,2)),\n",
    "                    layers.Conv2D(filters=128, kernel_size=(3,3), strides=(1,1), activation='relu', kernel_regularizer=regularizers.l1_l2(l1=0.005, l2=0.005), padding='valid'),\n",
    "                    layers.MaxPooling2D(pool_size=(2,2)),\n",
    "                    layers.Flatten(),\n",
    "                    layers.Dense(units=1)])\n",
    "        model.compile(optimizer='rmsprop', loss='mse', metrics=['mae'])\n",
    "\n",
    "        net_LCT = ImaNet(name='[C32+P]+[C64+P]+[C128+P]')\n",
    "\n",
    "    # training for iterations from 1 to 9\n",
    "    print(i)\n",
    "    if i < 10:\n",
    "        score = model.fit(gene_sim.data, gene_sim.targets, batch_size=32, epochs=1, verbose=1, validation_split=0.10)\n",
    "        net_LCT.update_scores(score)\n",
    "    else:\n",
    "        # testing for iteration 10\n",
    "        net_LCT.test = model.evaluate(gene_sim.data, gene_sim.targets, batch_size=None, verbose=1)\n",
    "        net_LCT.predict(gene_sim, model)\n",
    "\n",
    "    i += 1"
   ]
  },
  {
   "cell_type": "code",
   "execution_count": null,
   "metadata": {},
   "outputs": [],
   "source": [
    "# set working directory where to save models, e.g. \n",
    "# path='/home/mfumagal/Data/ImaGene/Tutorials/Data/' # my local machine\n",
    "# path='./' # for workshop spp1819\n",
    "path = './'"
   ]
  },
  {
   "cell_type": "code",
   "execution_count": null,
   "metadata": {},
   "outputs": [],
   "source": [
    "# save final (trained) model\n",
    "model.save(path+'model.cont.h5');\n",
    "# save testing data\n",
    "gene_sim.save(path+'gene_sim.cont');\n",
    "# save network\n",
    "net_LCT.save(path+'net_LCT.cont');"
   ]
  },
  {
   "cell_type": "markdown",
   "metadata": {},
   "source": [
    "Recall that to load all these files you can use the following commands."
   ]
  },
  {
   "cell_type": "code",
   "execution_count": null,
   "metadata": {},
   "outputs": [],
   "source": [
    "gene_sim = load_imagene(path+'gene_sim.cont');\n",
    "net_LCT = load_imanet(path+'net_LCT.cont');\n",
    "model = load_model(path+'model.cont.h5');"
   ]
  },
  {
   "cell_type": "code",
   "execution_count": null,
   "metadata": {},
   "outputs": [],
   "source": [
    "# assess the training\n",
    "net_LCT.plot_train();"
   ]
  },
  {
   "cell_type": "code",
   "execution_count": null,
   "metadata": {},
   "outputs": [],
   "source": [
    "# print the testing results [loss, mae]\n",
    "print(net_LCT.test);"
   ]
  },
  {
   "cell_type": "markdown",
   "metadata": {},
   "source": [
    "For the estimation of continuous variables, we can produce a scatter plot with `net.plot_scatter(MAP=False)`."
   ]
  },
  {
   "cell_type": "code",
   "execution_count": null,
   "metadata": {},
   "outputs": [],
   "source": [
    "net_LCT.plot_scatter(MAP=False);"
   ]
  },
  {
   "cell_type": "markdown",
   "metadata": {},
   "source": [
    "### 4. Deploy the trained network on your genomic data of interest"
   ]
  },
  {
   "cell_type": "code",
   "execution_count": null,
   "metadata": {},
   "outputs": [],
   "source": [
    "model.predict(gene_LCT.data, batch_size=None)[0][0]"
   ]
  }
 ],
 "metadata": {
  "kernelspec": {
   "display_name": "Python 3 (ipykernel)",
   "language": "python",
   "name": "python3"
  },
  "language_info": {
   "codemirror_mode": {
    "name": "ipython",
    "version": 3
   },
   "file_extension": ".py",
   "mimetype": "text/x-python",
   "name": "python",
   "nbconvert_exporter": "python",
   "pygments_lexer": "ipython3",
   "version": "3.10.4"
  }
 },
 "nbformat": 4,
 "nbformat_minor": 4
}
